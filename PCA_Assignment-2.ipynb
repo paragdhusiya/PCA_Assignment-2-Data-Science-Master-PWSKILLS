{
 "cells": [
  {
   "cell_type": "markdown",
   "metadata": {},
   "source": [
    "Q1. What is a projection and how is it used in PCA?\n",
    "\n",
    "Q2. How does the optimization problem in PCA work, and what is it trying to achieve?\n",
    "\n",
    "Q3. What is the relationship between covariance matrices and PCA?\n",
    "\n",
    "Q4. How does the choice of number of principal components impact the performance of PCA?\n",
    "\n",
    "Q5. How can PCA be used in feature selection, and what are the benefits of using it for this purpose?\n",
    "\n",
    "Q6. What are some common applications of PCA in data science and machine learning?\n",
    "\n",
    "Q7.What is the relationship between spread and variance in PCA?\n",
    "\n",
    "Q8. How does PCA use the spread and variance of the data to identify principal components?\n",
    "\n",
    "Q9. How does PCA handle data with high variance in some dimensions but low variance in others?"
   ]
  },
  {
   "cell_type": "code",
   "execution_count": null,
   "metadata": {},
   "outputs": [],
   "source": [
    "\"\"\"\n",
    "\n",
    "Q1. A projection is a transformation that maps points from a higher-dimensional space to a lower-dimensional subspace while preserving certain properties of the data. In PCA (Principal Component Analysis), projections are used to find a new set of orthogonal axes (principal components) onto which the data is projected to maximize variance.\n",
    "\n",
    "Q2. The optimization problem in PCA involves finding the directions (principal components) along which the data has the maximum variance. This is achieved by computing the eigenvectors and eigenvalues of the covariance matrix of the data. The eigenvectors represent the directions of maximum variance, while the eigenvalues represent the amount of variance along those directions.\n",
    "\n",
    "Q3. The covariance matrix plays a central role in PCA. It captures the relationships between different dimensions of the data by measuring how they vary together. PCA uses the covariance matrix to compute the principal components, which are the directions of maximum variance in the data.\n",
    "\n",
    "Q4. The choice of the number of principal components impacts the performance of PCA and the amount of variance retained in the data after dimensionality reduction. Selecting fewer principal components may lead to a loss of information, while selecting too many may retain noise and overfit the model.\n",
    "\n",
    "Q5. PCA can be used in feature selection by selecting a subset of the principal components that capture most of the variance in the data. By retaining only the most informative components, PCA reduces the dimensionality of the feature space while preserving as much variance as possible, which can improve model performance and reduce computational complexity.\n",
    "\n",
    "Q6. Some common applications of PCA in data science and machine learning include dimensionality reduction, feature extraction, data visualization, noise reduction, and preprocessing for other algorithms such as clustering and classification.\n",
    "\n",
    "Q7. Spread and variance are closely related concepts in PCA. Spread refers to the dispersion of data points in different dimensions, while variance measures the extent to which individual data points deviate from the mean. In PCA, maximizing the spread of data along the principal components is equivalent to maximizing the variance explained by those components.\n",
    "\n",
    "Q8. PCA uses the spread and variance of the data to identify principal components by finding the directions along which the data has the maximum variance. The principal components are chosen to be orthogonal to each other and capture as much variance as possible.\n",
    "\n",
    "Q9. PCA handles data with high variance in some dimensions but low variance in others by identifying the directions (principal components) along which the data has the highest variance. By projecting the data onto these principal components, PCA effectively captures the most significant patterns in the data while reducing the dimensionality and preserving as much variance as possible.\n",
    "\n",
    "\n",
    "\"\"\""
   ]
  }
 ],
 "metadata": {
  "language_info": {
   "name": "python"
  }
 },
 "nbformat": 4,
 "nbformat_minor": 2
}
